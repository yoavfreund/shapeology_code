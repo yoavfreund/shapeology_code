{
 "cells": [
  {
   "cell_type": "markdown",
   "metadata": {},
   "source": [
    "### Date:2021.10.08\n",
    "**File**: production/learning/Compute_detection_map_2D.py & Compute_detection_map_3D.py\n",
    "\n",
    "**Description**: these two files are to compute detection score maps using 2D/3D detection.\n",
    "```bash\n",
    "python Compute_detection_map_2D.py --structure <structure_name>.pkl --center <brain_name>.pkl\n",
    "```\n",
    "```\n",
    "optional arguments:\n",
    "  --structure     Path to file with atlas information for one structure\n",
    "  --center        Path to file with annotation information for one brain\n",
    "\n",
    "generate:\n",
    "  a pickle file storing detection score maps\n",
    "```\n",
    "* The detector is using the difference between inner cdfs and outer cdfs as input\n",
    "* One query to database is done to get information of all cells in a 3D box containing all shifted shapes\n",
    "* There is a 3-layer for loop to realize shifts in x,y,z directions\n",
    "* The shift step size is equal to $max(int(extent_{max} / 20), int(30 / resol))$ where $extent_{max}$ is the largest extent in x,y,z direction and there are 30 steps in total\n",
    "\n",
    "**Will do**: \n",
    "* Debug the computation of step size. The search range should be around 1.5 times the largest extent while for 6N, it looks much larger.\n",
    "* Add an arguments to control t"
   ]
  },
  {
   "cell_type": "code",
   "execution_count": null,
   "metadata": {},
   "outputs": [],
   "source": []
  }
 ],
 "metadata": {
  "kernelspec": {
   "display_name": "shapeology",
   "language": "python",
   "name": "shapeology"
  },
  "language_info": {
   "codemirror_mode": {
    "name": "ipython",
    "version": 3
   },
   "file_extension": ".py",
   "mimetype": "text/x-python",
   "name": "python",
   "nbconvert_exporter": "python",
   "pygments_lexer": "ipython3",
   "version": "3.7.3"
  }
 },
 "nbformat": 4,
 "nbformat_minor": 4
}
