{
 "cells": [
  {
   "cell_type": "markdown",
   "metadata": {},
   "source": [
    "## Imports, Connect to Database"
   ]
  },
  {
   "cell_type": "code",
   "execution_count": 1,
   "metadata": {},
   "outputs": [],
   "source": [
    "import datajoint as dj\n",
    "import numpy as np\n",
    "import json\n",
    "from subprocess import call\n",
    "import yaml\n",
    "import sys, os\n",
    "import pandas as pd\n",
    "import ray\n",
    "\n",
    "sys.path.append('./lib')\n",
    "from utilities import *\n",
    "sys.path.append('../lib')\n",
    "from utils import run"
   ]
  },
  {
   "cell_type": "code",
   "execution_count": 2,
   "metadata": {},
   "outputs": [
    {
     "name": "stdout",
     "output_type": "stream",
     "text": [
      "Connecting kui@ucsd-demo-db.datajoint.io:3306\n"
     ]
    },
    {
     "name": "stderr",
     "output_type": "stream",
     "text": [
      "./lib/utilities.py:14: YAMLLoadWarning: calling yaml.load() without Loader=... is deprecated, as the default Loader is unsafe. Please read https://msg.pyyaml.org/load for full details.\n",
      "  credFiles = yaml.load(open( credential_file_pointers,'r'))\n"
     ]
    },
    {
     "data": {
      "text/plain": [
       "DataJoint connection (connected) kui@ucsd-demo-db.datajoint.io:3306"
      ]
     },
     "execution_count": 2,
     "metadata": {},
     "output_type": "execute_result"
    }
   ],
   "source": [
    "credFiles= '/data/Github/VaultBrain/credFiles_aws.yaml'\n",
    "#'/Users/kuiqian/Github/VaultBrain/credFiles.yaml'\n",
    "dj.config['database.host'] = get_dj_creds(credFiles)['database.host']\n",
    "dj.config['database.user'] = get_dj_creds(credFiles)['database.user']\n",
    "dj.config['database.port'] = get_dj_creds(credFiles)['database.port']\n",
    "dj.config['database.password'] = get_dj_creds(credFiles)['database.password']\n",
    "dj.conn()"
   ]
  },
  {
   "cell_type": "code",
   "execution_count": 3,
   "metadata": {},
   "outputs": [],
   "source": [
    "schema = dj.schema('kui_diffusionmap')\n",
    "schema.spawn_missing_classes()"
   ]
  },
  {
   "cell_type": "code",
   "execution_count": 4,
   "metadata": {},
   "outputs": [],
   "source": [
    "stack = 'MD589'\n",
    "yaml_file = 'shape_params-aws.yaml'\n",
    "scripts_dir = os.environ['REPO_DIR']"
   ]
  },
  {
   "cell_type": "markdown",
   "metadata": {},
   "source": [
    "## Create Process Table\n",
    "--script  shapeolopy_code/scripts/Cell_generator.py"
   ]
  },
  {
   "cell_type": "code",
   "execution_count": 25,
   "metadata": {
    "scrolled": true
   },
   "outputs": [
    {
     "name": "stdout",
     "output_type": "stream",
     "text": [
      "`kui_diffusionmap`.`__process` (28 tuples)\n",
      "Proceed? [yes, No]: yes\n",
      "Tables dropped.  Restart kernel.\n"
     ]
    }
   ],
   "source": [
    "Process.drop()"
   ]
  },
  {
   "cell_type": "code",
   "execution_count": 26,
   "metadata": {},
   "outputs": [
    {
     "name": "stderr",
     "output_type": "stream",
     "text": [
      "./lib/utilities.py:27: YAMLLoadWarning: calling yaml.load() without Loader=... is deprecated, as the default Loader is unsafe. Please read https://msg.pyyaml.org/load for full details.\n",
      "  credFiles = yaml.load(open( credential_file_pointers,'r'))\n"
     ]
    }
   ],
   "source": [
    "@schema\n",
    "class Process(dj.Computed):\n",
    "    definition=\"\"\"\n",
    "    -> Structure\n",
    "    -----\n",
    "    size_positive_properties : int   #size of file\n",
    "    size_negative_properties : int   #size of file\n",
    "    \"\"\"\n",
    "#     size_positive_images     : int   #size of file\n",
    "#     size_negative_images     : int   #size of file\n",
    "    bucket = \"mousebrainatlas-data\"\n",
    "    client = get_s3_client(credFiles)\n",
    "    def make(self, key):\n",
    "        struc = (Structure & key).fetch1('structure')\n",
    "        print('populating for ', struc, end='\\n')\n",
    "        for state in ['positive', 'negative']:\n",
    "            item_name = state+'_s3_fp'\n",
    "            #img_name = state+'_img_fp'\n",
    "            key_item = 'size_'+state+'_properties'\n",
    "            #key_img = 'size_'+state+'_images'\n",
    "            s3_fp = (Structure & key).fetch1(item_name)\n",
    "            #img_fp = (Structure & key).fetch1(img_name)\n",
    "            try:\n",
    "                report = self.client.stat_object(self.bucket, s3_fp)\n",
    "                key[key_item] = int(report.size/1000)\n",
    "                #report2 = self.client.stat_object(self.bucket, img_fp)\n",
    "                #key[key_img] = int(report2.size/1000000)\n",
    "            except:\n",
    "                ! python3 $scripts_dir/Cell_generator.py $stack $struc $state $yaml_file\n",
    "                upload_fp = 's3://'+self.bucket+'/'+s3_fp\n",
    "                #upload_img_fp = 's3://'+self.bucket+'/'+img_fp\n",
    "                pkl_out_file = os.environ['ROOT_DIR']+s3_fp\n",
    "                #img_out_file = os.environ['ROOT_DIR']+img_fp\n",
    "                ! aws s3 cp $pkl_out_file $upload_fp\n",
    "                #! aws s3 cp $img_out_file $upload_img_fp\n",
    "                print(pkl_out_file,upload_fp)\n",
    "                report = self.client.stat_object(self.bucket, s3_fp)\n",
    "                key[key_item] = int(report.size / 1000)\n",
    "                #report2 = self.client.stat_object(self.bucket, img_fp)\n",
    "                #key[key_img] = int(report2.size/1000000)\n",
    "        try:\n",
    "            self.insert1(key)\n",
    "        except:\n",
    "            print('could not insert key=', key)\n"
   ]
  },
  {
   "cell_type": "code",
   "execution_count": 27,
   "metadata": {},
   "outputs": [],
   "source": [
    "diffusion = Process()"
   ]
  },
  {
   "cell_type": "code",
   "execution_count": 28,
   "metadata": {
    "scrolled": true
   },
   "outputs": [
    {
     "name": "stdout",
     "output_type": "stream",
     "text": [
      "populating for  5N\n",
      "populating for  6N\n",
      "populating for  7N\n",
      "populating for  7n\n",
      "populating for  Amb\n",
      "populating for  LC\n",
      "populating for  LRt\n",
      "populating for  Pn\n",
      "populating for  Tz\n",
      "populating for  VLL\n",
      "populating for  RMC\n",
      "populating for  SNC\n",
      "populating for  SNR\n",
      "populating for  3N\n",
      "populating for  4N\n",
      "populating for  Sp5I\n",
      "populating for  Sp5O\n",
      "populating for  Sp5C\n",
      "populating for  PBG\n",
      "populating for  10N\n",
      "populating for  VCA\n",
      "populating for  VCP\n",
      "populating for  DC\n",
      "populating for  AP\n",
      "populating for  12N\n",
      "populating for  RtTg\n",
      "populating for  SC\n",
      "populating for  IC\n"
     ]
    }
   ],
   "source": [
    "diffusion.populate()#reserve_jobs=True"
   ]
  },
  {
   "cell_type": "code",
   "execution_count": 29,
   "metadata": {},
   "outputs": [
    {
     "data": {
      "text/plain": [
       "[OrderedDict([('id', 0),\n",
       "              ('size_positive_properties', 67),\n",
       "              ('size_negative_properties', 67)]),\n",
       " OrderedDict([('id', 1),\n",
       "              ('size_positive_properties', 7),\n",
       "              ('size_negative_properties', 7)]),\n",
       " OrderedDict([('id', 2),\n",
       "              ('size_positive_properties', 136),\n",
       "              ('size_negative_properties', 136)]),\n",
       " OrderedDict([('id', 3),\n",
       "              ('size_positive_properties', 193),\n",
       "              ('size_negative_properties', 193)]),\n",
       " OrderedDict([('id', 4),\n",
       "              ('size_positive_properties', 19),\n",
       "              ('size_negative_properties', 19)]),\n",
       " OrderedDict([('id', 5),\n",
       "              ('size_positive_properties', 36),\n",
       "              ('size_negative_properties', 37)]),\n",
       " OrderedDict([('id', 6),\n",
       "              ('size_positive_properties', 116),\n",
       "              ('size_negative_properties', 116)]),\n",
       " OrderedDict([('id', 7),\n",
       "              ('size_positive_properties', 155),\n",
       "              ('size_negative_properties', 155)]),\n",
       " OrderedDict([('id', 8),\n",
       "              ('size_positive_properties', 76),\n",
       "              ('size_negative_properties', 76)]),\n",
       " OrderedDict([('id', 9),\n",
       "              ('size_positive_properties', 106),\n",
       "              ('size_negative_properties', 105)]),\n",
       " OrderedDict([('id', 10),\n",
       "              ('size_positive_properties', 87),\n",
       "              ('size_negative_properties', 87)]),\n",
       " OrderedDict([('id', 11),\n",
       "              ('size_positive_properties', 127),\n",
       "              ('size_negative_properties', 127)]),\n",
       " OrderedDict([('id', 12),\n",
       "              ('size_positive_properties', 193),\n",
       "              ('size_negative_properties', 193)]),\n",
       " OrderedDict([('id', 13),\n",
       "              ('size_positive_properties', 36),\n",
       "              ('size_negative_properties', 36)]),\n",
       " OrderedDict([('id', 14),\n",
       "              ('size_positive_properties', 18),\n",
       "              ('size_negative_properties', 18)]),\n",
       " OrderedDict([('id', 15),\n",
       "              ('size_positive_properties', 112),\n",
       "              ('size_negative_properties', 112)]),\n",
       " OrderedDict([('id', 16),\n",
       "              ('size_positive_properties', 104),\n",
       "              ('size_negative_properties', 104)]),\n",
       " OrderedDict([('id', 17),\n",
       "              ('size_positive_properties', 216),\n",
       "              ('size_negative_properties', 216)]),\n",
       " OrderedDict([('id', 18),\n",
       "              ('size_positive_properties', 39),\n",
       "              ('size_negative_properties', 39)]),\n",
       " OrderedDict([('id', 19),\n",
       "              ('size_positive_properties', 70),\n",
       "              ('size_negative_properties', 70)]),\n",
       " OrderedDict([('id', 20),\n",
       "              ('size_positive_properties', 101),\n",
       "              ('size_negative_properties', 101)]),\n",
       " OrderedDict([('id', 21),\n",
       "              ('size_positive_properties', 75),\n",
       "              ('size_negative_properties', 75)]),\n",
       " OrderedDict([('id', 22),\n",
       "              ('size_positive_properties', 170),\n",
       "              ('size_negative_properties', 170)]),\n",
       " OrderedDict([('id', 23),\n",
       "              ('size_positive_properties', 23),\n",
       "              ('size_negative_properties', 23)]),\n",
       " OrderedDict([('id', 24),\n",
       "              ('size_positive_properties', 59),\n",
       "              ('size_negative_properties', 59)]),\n",
       " OrderedDict([('id', 25),\n",
       "              ('size_positive_properties', 23),\n",
       "              ('size_negative_properties', 23)]),\n",
       " OrderedDict([('id', 26),\n",
       "              ('size_positive_properties', 279),\n",
       "              ('size_negative_properties', 279)]),\n",
       " OrderedDict([('id', 27),\n",
       "              ('size_positive_properties', 293),\n",
       "              ('size_negative_properties', 293)])]"
      ]
     },
     "execution_count": 29,
     "metadata": {},
     "output_type": "execute_result"
    }
   ],
   "source": [
    "Process.fetch(as_dict=True)"
   ]
  },
  {
   "cell_type": "code",
   "execution_count": null,
   "metadata": {},
   "outputs": [],
   "source": []
  }
 ],
 "metadata": {
  "kernelspec": {
   "display_name": "shapeology",
   "language": "python",
   "name": "shapeology_code"
  },
  "language_info": {
   "codemirror_mode": {
    "name": "ipython",
    "version": 3
   },
   "file_extension": ".py",
   "mimetype": "text/x-python",
   "name": "python",
   "nbconvert_exporter": "python",
   "pygments_lexer": "ipython3",
   "version": "3.7.3"
  }
 },
 "nbformat": 4,
 "nbformat_minor": 2
}
