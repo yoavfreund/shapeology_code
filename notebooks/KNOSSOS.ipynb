{
 "cells": [
  {
   "cell_type": "code",
   "execution_count": null,
   "metadata": {},
   "outputs": [],
   "source": [
    "import cv2\n",
    "import numpy as np\n",
    "import pandas as pd\n",
    "import pickle\n",
    "import xgboost as xgb\n",
    "from matplotlib import pyplot as plt\n",
    "import skimage\n",
    "import os\n",
    "import sys\n",
    "import sqlite3\n",
    "import shutil\n",
    "from time import time\n",
    "sys.path.append(os.environ['REPO_DIR'])\n",
    "from lib.utils import configuration, run\n",
    "from matplotlib.path import Path\n",
    "from shapely.geometry import Polygon"
   ]
  },
  {
   "cell_type": "code",
   "execution_count": 2,
   "metadata": {},
   "outputs": [],
   "source": [
    "def CDF(x):\n",
    "    x=np.sort(x)\n",
    "    size=x.shape[0]\n",
    "    y=np.arange(0,size)/size\n",
    "    return x,y\n",
    "\n",
    "\n",
    "def setup_download_from_s3(rel_fp, recursive=True):\n",
    "    s3_fp = 's3://mousebrainatlas-data/' + rel_fp\n",
    "    local_fp = os.environ['ROOT_DIR'] + rel_fp\n",
    "\n",
    "    if os.path.exists(local_fp):\n",
    "        print('ALREADY DOWNLOADED FILE')\n",
    "        return\n",
    "\n",
    "    if recursive:\n",
    "        run('aws s3 cp --recursive {0} {1}'.format(s3_fp, local_fp))\n",
    "    else:\n",
    "        run('aws s3 cp {0} {1}'.format(s3_fp, local_fp))\n",
    "\n",
    "def setup_upload_from_s3(rel_fp, recursive=True):\n",
    "    s3_fp = 's3://mousebrainatlas-data/' + rel_fp\n",
    "    local_fp = os.environ['ROOT_DIR'] + rel_fp\n",
    "\n",
    "    if recursive:\n",
    "        run('aws s3 cp --recursive {0} {1}'.format(local_fp, s3_fp))\n",
    "    else:\n",
    "        run('aws s3 cp {0} {1}'.format(local_fp, s3_fp))"
   ]
  },
  {
   "cell_type": "code",
   "execution_count": 3,
   "metadata": {},
   "outputs": [
    {
     "name": "stdout",
     "output_type": "stream",
     "text": [
      "ALREADY DOWNLOADED FILE\n",
      "ALREADY DOWNLOADED FILE\n",
      "ALREADY DOWNLOADED FILE\n"
     ]
    }
   ],
   "source": [
    "stack = 'MD594'\n",
    "fp = os.path.join('CSHL_data_processed', stack, stack + '_sorted_filenames.txt')\n",
    "setup_download_from_s3(fp, recursive=False)\n",
    "with open(os.environ['ROOT_DIR']+fp, 'r') as f:\n",
    "    fn_idx_tuples = [line.strip().split() for line in f.readlines()]\n",
    "    section_to_filename = {int(idx): fn for fn, idx in fn_idx_tuples}\n",
    "\n",
    "\n",
    "fname = os.path.join('CSHL_data_processed', stack, 'Annotation.npy')\n",
    "setup_download_from_s3(fname, recursive=False)\n",
    "annotation = np.load(os.environ['ROOT_DIR']+fname, allow_pickle = True, encoding='latin1')\n",
    "contours = pd.DataFrame(annotation)\n",
    "contours = contours.rename(columns={0:\"name\", 1:\"section\", 2:\"vertices\"})\n",
    "contours_grouped = contours.groupby('section')\n",
    "valid_sections = np.sort(contours['section'].unique())\n",
    "\n",
    "fn = 'CSHL_data_processed/MD589/ThresholdsV2.pkl'\n",
    "setup_download_from_s3(fn, recursive=False)\n",
    "thresholds = pickle.load(open(os.environ['ROOT_DIR']+fn,'rb'))"
   ]
  },
  {
   "cell_type": "code",
   "execution_count": 4,
   "metadata": {},
   "outputs": [],
   "source": [
    "savepath = 'CSHL_cells_mark/'\n",
    "if not os.path.exists(os.environ['ROOT_DIR']+savepath):\n",
    "    os.mkdir(os.environ['ROOT_DIR']+savepath)\n",
    "savepath = savepath+stack+'/'\n",
    "if not os.path.exists(os.environ['ROOT_DIR']+savepath):\n",
    "    os.mkdir(os.environ['ROOT_DIR']+savepath)\n",
    "savepath = savepath+'color/'\n",
    "if not os.path.exists(os.environ['ROOT_DIR']+savepath):\n",
    "    os.mkdir(os.environ['ROOT_DIR']+savepath)\n",
    "\n",
    "resol = 0.46\n",
    "\n",
    "paired_structures = ['5N', '6N', '7N', '7n', 'Amb', 'LC', 'LRt', 'Pn', 'Tz', 'VLL', 'RMC', \\\n",
    "                     'SNC', 'SNR', '3N', '4N', 'Sp5I', 'Sp5O', 'Sp5C', 'PBG', '10N', 'VCA', 'VCP', 'DC']\n",
    "singular_structures = ['AP', '12N', 'RtTg', 'SC', 'IC']\n",
    "\n",
    "all_structures = paired_structures + singular_structures\n",
    "\n",
    "margin = 500/0.46"
   ]
  },
  {
   "cell_type": "code",
   "execution_count": 5,
   "metadata": {},
   "outputs": [
    {
     "data": {
      "text/plain": [
       "265"
      ]
     },
     "execution_count": 5,
     "metadata": {},
     "output_type": "execute_result"
    }
   ],
   "source": [
    "len(valid_sections)"
   ]
  },
  {
   "cell_type": "code",
   "execution_count": 6,
   "metadata": {},
   "outputs": [
    {
     "name": "stdout",
     "output_type": "stream",
     "text": [
      "CPU times: user 14min 26s, sys: 3min 21s, total: 17min 47s\n",
      "Wall time: 20min 44s\n"
     ]
    }
   ],
   "source": [
    "%%time\n",
    "raw_images_root = 'CSHL_data_processed/'+stack+'/'+stack+'_prep2_lossless_gray/'\n",
    "for section in valid_sections:\n",
    "    img_fn = raw_images_root + section_to_filename[section] + '_prep2_lossless_gray.tif'\n",
    "#     setup_download_from_s3(img_fn, recursive=False)\n",
    "    img = cv2.imread(os.environ['ROOT_DIR']+img_fn, 2)\n",
    "#     whole = cv2.cvtColor(img, cv2.COLOR_GRAY2RGB)\n",
    "#     polygons = [(contour['name'], contour['vertices']) \\\n",
    "#             for contour_id, contour in contours_grouped.get_group(section).iterrows()]\n",
    "#     count = 0    \n",
    "#     cs = []\n",
    "#     for contour_id, contour in polygons:\n",
    "#         structure = contour_id\n",
    "#         if structure not in all_structures:\n",
    "#             continue\n",
    "#         polygon = contour.copy()\n",
    "#         cs.append(polygon.astype(np.int32))\n",
    "#         count += 1\n",
    "#         print(section, structure, count, '/', len(polygons))\n",
    "#     com = cv2.polylines(whole.copy(), cs, True, [255, 0, 0], 3, lineType=50)\n",
    "    filename = savepath + str(section) + '.tif'\n",
    "#     com = cv2.cvtColor(com, cv2.COLOR_BGR2RGB)\n",
    "    cv2.imwrite(os.environ['ROOT_DIR']+filename, img)    "
   ]
  },
  {
   "cell_type": "code",
   "execution_count": 8,
   "metadata": {},
   "outputs": [
    {
     "data": {
      "text/plain": [
       "dtype('uint8')"
      ]
     },
     "execution_count": 8,
     "metadata": {},
     "output_type": "execute_result"
    }
   ],
   "source": [
    "img.dtype"
   ]
  },
  {
   "cell_type": "code",
   "execution_count": 6,
   "metadata": {},
   "outputs": [
    {
     "name": "stdout",
     "output_type": "stream",
     "text": [
      "/Users/kuiqian/Github/venv/shapeology_venv/lib/python3.7/site-packages/sklearn/externals/joblib/externals/cloudpickle/cloudpickle.py:47: DeprecationWarning: the imp module is deprecated in favour of importlib; see the module's documentation for alternative uses\n",
      "  import imp\n",
      "ALREADY DOWNLOADED FILE\n",
      "ALREADY DOWNLOADED FILE\n",
      "ALREADY DOWNLOADED FILE\n",
      "ALREADY DOWNLOADED FILE\n",
      "run cmd= aws s3 cp s3://mousebrainatlas-data/CSHL_databases/MD594/319.db /Users/kuiqian/BstemAtlasDataBackup/ucsd_brain/CSHL_databases/MD594/319.db\n",
      "download: s3://mousebrainatlas-data/CSHL_databases/MD594/319.db to ../../../BstemAtlasDataBackup/ucsd_brain/CSHL_databases/MD594/319.db\n",
      "run cmd= aws s3 cp s3://mousebrainatlas-data/CSHL_data_processed/MD594/MD594_prep2_lossless_gray/MD594-N70-2015.08.27-01.10.06_MD594_2_0209_prep2_lossless_gray.tif /Users/kuiqian/BstemAtlasDataBackup/ucsd_brain/CSHL_data_processed/MD594/MD594_prep2_lossless_gray/MD594-N70-2015.08.27-01.10.06_MD594_2_0209_prep2_lossless_gray.tif\n",
      "download: s3://mousebrainatlas-data/CSHL_data_processed/MD594/MD594_prep2_lossless_gray/MD594-N70-2015.08.27-01.10.06_MD594_2_0209_prep2_lossless_gray.tif to ../../../BstemAtlasDataBackup/ucsd_brain/CSHL_data_processed/MD594/MD594_prep2_lossless_gray/MD594-N70-2015.08.27-01.10.06_MD594_2_0209_prep2_lossless_gray.tif\n",
      "run cmd= aws s3 cp /Users/kuiqian/BstemAtlasDataBackup/ucsd_brain/CSHL_cells_mark/MD594/Sp5C/319_valid.png s3://mousebrainatlas-data/CSHL_cells_mark/MD594/Sp5C/319_valid.png\n",
      "upload: ../../../BstemAtlasDataBackup/ucsd_brain/CSHL_cells_mark/MD594/Sp5C/319_valid.png to s3://mousebrainatlas-data/CSHL_cells_mark/MD594/Sp5C/319_valid.png\n",
      "319 Sp5C 1 / 7\n",
      "run cmd= aws s3 cp /Users/kuiqian/BstemAtlasDataBackup/ucsd_brain/CSHL_cells_mark/MD594/DC/319_valid.png s3://mousebrainatlas-data/CSHL_cells_mark/MD594/DC/319_valid.png\n",
      "upload: ../../../BstemAtlasDataBackup/ucsd_brain/CSHL_cells_mark/MD594/DC/319_valid.png to s3://mousebrainatlas-data/CSHL_cells_mark/MD594/DC/319_valid.png\n",
      "319 DC 2 / 7\n",
      "run cmd= aws s3 cp /Users/kuiqian/BstemAtlasDataBackup/ucsd_brain/CSHL_cells_mark/MD594/Sp5O/319_valid.png s3://mousebrainatlas-data/CSHL_cells_mark/MD594/Sp5O/319_valid.png\n",
      "upload: ../../../BstemAtlasDataBackup/ucsd_brain/CSHL_cells_mark/MD594/Sp5O/319_valid.png to s3://mousebrainatlas-data/CSHL_cells_mark/MD594/Sp5O/319_valid.png\n",
      "319 Sp5O 3 / 7\n",
      "run cmd= aws s3 cp /Users/kuiqian/BstemAtlasDataBackup/ucsd_brain/CSHL_cells_mark/MD594/Sp5I/319_valid.png s3://mousebrainatlas-data/CSHL_cells_mark/MD594/Sp5I/319_valid.png\n",
      "upload: ../../../BstemAtlasDataBackup/ucsd_brain/CSHL_cells_mark/MD594/Sp5I/319_valid.png to s3://mousebrainatlas-data/CSHL_cells_mark/MD594/Sp5I/319_valid.png\n",
      "319 Sp5I 4 / 7\n",
      "run cmd= aws s3 cp /Users/kuiqian/BstemAtlasDataBackup/ucsd_brain/CSHL_cells_mark/MD594/5N/319.png s3://mousebrainatlas-data/CSHL_cells_mark/MD594/5N/319.png\n",
      "upload: ../../../BstemAtlasDataBackup/ucsd_brain/CSHL_cells_mark/MD594/5N/319.png to s3://mousebrainatlas-data/CSHL_cells_mark/MD594/5N/319.png\n",
      "319 5N 5\n",
      "run cmd= aws s3 cp /Users/kuiqian/BstemAtlasDataBackup/ucsd_brain/CSHL_cells_mark/MD594/6N/319.png s3://mousebrainatlas-data/CSHL_cells_mark/MD594/6N/319.png\n",
      "upload: ../../../BstemAtlasDataBackup/ucsd_brain/CSHL_cells_mark/MD594/6N/319.png to s3://mousebrainatlas-data/CSHL_cells_mark/MD594/6N/319.png\n",
      "319 6N 6\n",
      "run cmd= aws s3 cp /Users/kuiqian/BstemAtlasDataBackup/ucsd_brain/CSHL_cells_mark/MD594/7N/319.png s3://mousebrainatlas-data/CSHL_cells_mark/MD594/7N/319.png\n",
      "upload: ../../../BstemAtlasDataBackup/ucsd_brain/CSHL_cells_mark/MD594/7N/319.png to s3://mousebrainatlas-data/CSHL_cells_mark/MD594/7N/319.png\n",
      "319 7N 7\n",
      "run cmd= aws s3 cp /Users/kuiqian/BstemAtlasDataBackup/ucsd_brain/CSHL_cells_mark/MD594/7nn/319.png s3://mousebrainatlas-data/CSHL_cells_mark/MD594/7nn/319.png\n",
      "upload: ../../../BstemAtlasDataBackup/ucsd_brain/CSHL_cells_mark/MD594/7nn/319.png to s3://mousebrainatlas-data/CSHL_cells_mark/MD594/7nn/319.png\n",
      "319 7nn 8\n",
      "run cmd= aws s3 cp /Users/kuiqian/BstemAtlasDataBackup/ucsd_brain/CSHL_cells_mark/MD594/Amb/319.png s3://mousebrainatlas-data/CSHL_cells_mark/MD594/Amb/319.png\n",
      "upload: ../../../BstemAtlasDataBackup/ucsd_brain/CSHL_cells_mark/MD594/Amb/319.png to s3://mousebrainatlas-data/CSHL_cells_mark/MD594/Amb/319.png\n",
      "319 Amb 9\n",
      "run cmd= aws s3 cp /Users/kuiqian/BstemAtlasDataBackup/ucsd_brain/CSHL_cells_mark/MD594/LC/319.png s3://mousebrainatlas-data/CSHL_cells_mark/MD594/LC/319.png\n",
      "upload: ../../../BstemAtlasDataBackup/ucsd_brain/CSHL_cells_mark/MD594/LC/319.png to s3://mousebrainatlas-data/CSHL_cells_mark/MD594/LC/319.png\n",
      "319 LC 10\n",
      "run cmd= aws s3 cp /Users/kuiqian/BstemAtlasDataBackup/ucsd_brain/CSHL_cells_mark/MD594/LRt/319.png s3://mousebrainatlas-data/CSHL_cells_mark/MD594/LRt/319.png\n",
      "upload: ../../../BstemAtlasDataBackup/ucsd_brain/CSHL_cells_mark/MD594/LRt/319.png to s3://mousebrainatlas-data/CSHL_cells_mark/MD594/LRt/319.png\n",
      "319 LRt 11\n",
      "run cmd= aws s3 cp /Users/kuiqian/BstemAtlasDataBackup/ucsd_brain/CSHL_cells_mark/MD594/Pn/319.png s3://mousebrainatlas-data/CSHL_cells_mark/MD594/Pn/319.png\n",
      "upload: ../../../BstemAtlasDataBackup/ucsd_brain/CSHL_cells_mark/MD594/Pn/319.png to s3://mousebrainatlas-data/CSHL_cells_mark/MD594/Pn/319.png\n",
      "319 Pn 12\n",
      "run cmd= aws s3 cp /Users/kuiqian/BstemAtlasDataBackup/ucsd_brain/CSHL_cells_mark/MD594/Tz/319.png s3://mousebrainatlas-data/CSHL_cells_mark/MD594/Tz/319.png\n",
      "upload: ../../../BstemAtlasDataBackup/ucsd_brain/CSHL_cells_mark/MD594/Tz/319.png to s3://mousebrainatlas-data/CSHL_cells_mark/MD594/Tz/319.png\n",
      "319 Tz 13\n",
      "run cmd= aws s3 cp /Users/kuiqian/BstemAtlasDataBackup/ucsd_brain/CSHL_cells_mark/MD594/VLL/319.png s3://mousebrainatlas-data/CSHL_cells_mark/MD594/VLL/319.png\n",
      "upload: ../../../BstemAtlasDataBackup/ucsd_brain/CSHL_cells_mark/MD594/VLL/319.png to s3://mousebrainatlas-data/CSHL_cells_mark/MD594/VLL/319.png\n",
      "319 VLL 14\n",
      "run cmd= aws s3 cp /Users/kuiqian/BstemAtlasDataBackup/ucsd_brain/CSHL_cells_mark/MD594/RMC/319.png s3://mousebrainatlas-data/CSHL_cells_mark/MD594/RMC/319.png\n",
      "upload: ../../../BstemAtlasDataBackup/ucsd_brain/CSHL_cells_mark/MD594/RMC/319.png to s3://mousebrainatlas-data/CSHL_cells_mark/MD594/RMC/319.png\n",
      "319 RMC 15\n",
      "run cmd= aws s3 cp /Users/kuiqian/BstemAtlasDataBackup/ucsd_brain/CSHL_cells_mark/MD594/SNC/319.png s3://mousebrainatlas-data/CSHL_cells_mark/MD594/SNC/319.png\n",
      "upload: ../../../BstemAtlasDataBackup/ucsd_brain/CSHL_cells_mark/MD594/SNC/319.png to s3://mousebrainatlas-data/CSHL_cells_mark/MD594/SNC/319.png\n",
      "319 SNC 16\n",
      "run cmd= aws s3 cp /Users/kuiqian/BstemAtlasDataBackup/ucsd_brain/CSHL_cells_mark/MD594/SNR/319.png s3://mousebrainatlas-data/CSHL_cells_mark/MD594/SNR/319.png\n",
      "upload: ../../../BstemAtlasDataBackup/ucsd_brain/CSHL_cells_mark/MD594/SNR/319.png to s3://mousebrainatlas-data/CSHL_cells_mark/MD594/SNR/319.png\n",
      "319 SNR 17\n",
      "run cmd= aws s3 cp /Users/kuiqian/BstemAtlasDataBackup/ucsd_brain/CSHL_cells_mark/MD594/3N/319.png s3://mousebrainatlas-data/CSHL_cells_mark/MD594/3N/319.png\n",
      "upload: ../../../BstemAtlasDataBackup/ucsd_brain/CSHL_cells_mark/MD594/3N/319.png to s3://mousebrainatlas-data/CSHL_cells_mark/MD594/3N/319.png\n",
      "319 3N 18\n",
      "run cmd= aws s3 cp /Users/kuiqian/BstemAtlasDataBackup/ucsd_brain/CSHL_cells_mark/MD594/4N/319.png s3://mousebrainatlas-data/CSHL_cells_mark/MD594/4N/319.png\n",
      "upload: ../../../BstemAtlasDataBackup/ucsd_brain/CSHL_cells_mark/MD594/4N/319.png to s3://mousebrainatlas-data/CSHL_cells_mark/MD594/4N/319.png\n",
      "319 4N 19\n",
      "run cmd= aws s3 cp /Users/kuiqian/BstemAtlasDataBackup/ucsd_brain/CSHL_cells_mark/MD594/PBG/319.png s3://mousebrainatlas-data/CSHL_cells_mark/MD594/PBG/319.png\n",
      "upload: ../../../BstemAtlasDataBackup/ucsd_brain/CSHL_cells_mark/MD594/PBG/319.png to s3://mousebrainatlas-data/CSHL_cells_mark/MD594/PBG/319.png\n",
      "319 PBG 20\n",
      "run cmd= aws s3 cp /Users/kuiqian/BstemAtlasDataBackup/ucsd_brain/CSHL_cells_mark/MD594/10N/319.png s3://mousebrainatlas-data/CSHL_cells_mark/MD594/10N/319.png\n",
      "upload: ../../../BstemAtlasDataBackup/ucsd_brain/CSHL_cells_mark/MD594/10N/319.png to s3://mousebrainatlas-data/CSHL_cells_mark/MD594/10N/319.png\n",
      "319 10N 21\n",
      "run cmd= aws s3 cp /Users/kuiqian/BstemAtlasDataBackup/ucsd_brain/CSHL_cells_mark/MD594/VCA/319.png s3://mousebrainatlas-data/CSHL_cells_mark/MD594/VCA/319.png\n"
     ]
    },
    {
     "name": "stdout",
     "output_type": "stream",
     "text": [
      "upload: ../../../BstemAtlasDataBackup/ucsd_brain/CSHL_cells_mark/MD594/VCA/319.png to s3://mousebrainatlas-data/CSHL_cells_mark/MD594/VCA/319.png\n",
      "319 VCA 22\n",
      "run cmd= aws s3 cp /Users/kuiqian/BstemAtlasDataBackup/ucsd_brain/CSHL_cells_mark/MD594/VCP/319.png s3://mousebrainatlas-data/CSHL_cells_mark/MD594/VCP/319.png\n",
      "upload: ../../../BstemAtlasDataBackup/ucsd_brain/CSHL_cells_mark/MD594/VCP/319.png to s3://mousebrainatlas-data/CSHL_cells_mark/MD594/VCP/319.png\n",
      "319 VCP 23\n",
      "run cmd= aws s3 cp /Users/kuiqian/BstemAtlasDataBackup/ucsd_brain/CSHL_cells_mark/MD594/AP/319.png s3://mousebrainatlas-data/CSHL_cells_mark/MD594/AP/319.png\n",
      "upload: ../../../BstemAtlasDataBackup/ucsd_brain/CSHL_cells_mark/MD594/AP/319.png to s3://mousebrainatlas-data/CSHL_cells_mark/MD594/AP/319.png\n",
      "319 AP 24\n",
      "run cmd= aws s3 cp /Users/kuiqian/BstemAtlasDataBackup/ucsd_brain/CSHL_cells_mark/MD594/12N/319.png s3://mousebrainatlas-data/CSHL_cells_mark/MD594/12N/319.png\n",
      "upload: ../../../BstemAtlasDataBackup/ucsd_brain/CSHL_cells_mark/MD594/12N/319.png to s3://mousebrainatlas-data/CSHL_cells_mark/MD594/12N/319.png\n",
      "319 12N 25\n",
      "run cmd= aws s3 cp /Users/kuiqian/BstemAtlasDataBackup/ucsd_brain/CSHL_cells_mark/MD594/RtTg/319.png s3://mousebrainatlas-data/CSHL_cells_mark/MD594/RtTg/319.png\n",
      "upload: ../../../BstemAtlasDataBackup/ucsd_brain/CSHL_cells_mark/MD594/RtTg/319.png to s3://mousebrainatlas-data/CSHL_cells_mark/MD594/RtTg/319.png\n",
      "319 RtTg 26\n",
      "run cmd= aws s3 cp /Users/kuiqian/BstemAtlasDataBackup/ucsd_brain/CSHL_cells_mark/MD594/SC/319.png s3://mousebrainatlas-data/CSHL_cells_mark/MD594/SC/319.png\n",
      "upload: ../../../BstemAtlasDataBackup/ucsd_brain/CSHL_cells_mark/MD594/SC/319.png to s3://mousebrainatlas-data/CSHL_cells_mark/MD594/SC/319.png\n",
      "319 SC 27\n",
      "run cmd= aws s3 cp /Users/kuiqian/BstemAtlasDataBackup/ucsd_brain/CSHL_cells_mark/MD594/IC/319.png s3://mousebrainatlas-data/CSHL_cells_mark/MD594/IC/319.png\n",
      "upload: ../../../BstemAtlasDataBackup/ucsd_brain/CSHL_cells_mark/MD594/IC/319.png to s3://mousebrainatlas-data/CSHL_cells_mark/MD594/IC/319.png\n",
      "319 IC 28\n",
      "CPU times: user 5.98 s, sys: 1.65 s, total: 7.63 s\n",
      "Wall time: 5min 59s\n"
     ]
    }
   ],
   "source": [
    "%%time\n",
    "script_dir = os.environ['REPO_DIR']\n",
    "! python $script_dir/Cell_mark.py 'MD594' 319 "
   ]
  },
  {
   "cell_type": "code",
   "execution_count": 3,
   "metadata": {
    "scrolled": true
   },
   "outputs": [
    {
     "name": "stdout",
     "output_type": "stream",
     "text": [
      "run cmd= aws s3 cp --recursive s3://mousebrainatlas-data/CSHL_cells_mark/MD594/ /nfs/birdstore/U19/Freund_Group/CSHL_cells_mark/MD594/\n"
     ]
    }
   ],
   "source": [
    "setup_download_from_s3('CSHL_cells_mark/MD594/')"
   ]
  },
  {
   "cell_type": "code",
   "execution_count": 3,
   "metadata": {},
   "outputs": [],
   "source": [
    "stack = 'MD594'\n",
    "fp = os.path.join('/data/CSHL_data_processed', stack, stack + '_sorted_filenames.txt')\n",
    "with open(fp, 'r') as f:\n",
    "    fn_idx_tuples = [line.strip().split() for line in f.readlines()]\n",
    "    section_to_filename = {int(idx): fn for fn, idx in fn_idx_tuples}\n",
    "\n",
    "fname = os.path.join('CSHL_data_processed', stack, 'Annotation.npy')\n",
    "s3_fp = 's3://mousebrainatlas-data/' + fname\n",
    "local_fp = '/data/' + fname\n",
    "# run('aws s3 cp {0} {1}'.format(s3_fp, local_fp))\n",
    "annotation = np.load('/data/'+fname, allow_pickle = True, encoding='latin1')\n",
    "contours = pd.DataFrame(annotation)\n",
    "contours = contours.rename(columns={0:\"name\", 1:\"section\", 2:\"vertices\"})\n",
    "contours_grouped = contours.groupby('section')\n",
    "valid_sections = np.sort(contours['section'].unique())"
   ]
  },
  {
   "cell_type": "code",
   "execution_count": 4,
   "metadata": {},
   "outputs": [],
   "source": [
    "root_dir = '/data2/Shapeology_Files/'"
   ]
  },
  {
   "cell_type": "code",
   "execution_count": 5,
   "metadata": {},
   "outputs": [
    {
     "name": "stdout",
     "output_type": "stream",
     "text": [
      "CPU times: user 15min 43s, sys: 2min 44s, total: 18min 27s\n",
      "Wall time: 21min 44s\n"
     ]
    }
   ],
   "source": [
    "%%time\n",
    "savepath = 'Background/'\n",
    "if not os.path.exists(root_dir+savepath):\n",
    "    os.mkdir(root_dir+savepath)\n",
    "savepath = savepath+stack+'_full/'\n",
    "if not os.path.exists(root_dir+savepath):\n",
    "    os.mkdir(root_dir+savepath)\n",
    "\n",
    "raw_images_root = 'CSHL_data_processed/'+stack+'/'+stack+'_prep2_lossless_gray/'\n",
    "for section in valid_sections: #[:len(valid_sections)//2]:\n",
    "    img_fn = raw_images_root + section_to_filename[section] + '_prep2_lossless_gray.tif'\n",
    "#     setup_download_from_s3(img_fn, recursive=False)\n",
    "    img = cv2.imread(os.environ['ROOT_DIR']+img_fn, 2)\n",
    "    filename = savepath + str(section) + '.tif'\n",
    "    cv2.imwrite(root_dir+filename, img)   "
   ]
  },
  {
   "cell_type": "code",
   "execution_count": 5,
   "metadata": {},
   "outputs": [],
   "source": [
    "from glob import glob\n",
    "source_dir = '/nfs/birdstore/U19/Freund_Group/'\n",
    "files = [dir for dir in glob(source_dir+'CSHL_cells_mark/MD594/VCA/*')]"
   ]
  },
  {
   "cell_type": "code",
   "execution_count": 6,
   "metadata": {},
   "outputs": [
    {
     "name": "stdout",
     "output_type": "stream",
     "text": [
      "CPU times: user 194 ms, sys: 316 ms, total: 510 ms\n",
      "Wall time: 2.93 s\n"
     ]
    }
   ],
   "source": [
    "%%time\n",
    "savepath = 'Segmentation/'\n",
    "if not os.path.exists(root_dir+savepath):\n",
    "    os.mkdir(root_dir+savepath)\n",
    "savepath = savepath+stack+'/'\n",
    "if not os.path.exists(root_dir+savepath):\n",
    "    os.mkdir(root_dir+savepath)\n",
    "structure = 'VCP'\n",
    "savepath = savepath+structure+'/'\n",
    "if not os.path.exists(root_dir+savepath):\n",
    "    os.mkdir(root_dir+savepath)\n",
    "\n",
    "for section in valid_sections[:len(valid_sections)//2]:\n",
    "    src = glob(source_dir+'CSHL_cells_mark/'+stack+'/'+structure+'/'+ str(section) + '*.png')[0]\n",
    "    shutil.copy2(src, root_dir+savepath)"
   ]
  },
  {
   "cell_type": "code",
   "execution_count": 10,
   "metadata": {},
   "outputs": [
    {
     "name": "stdout",
     "output_type": "stream",
     "text": [
      "CPU times: user 15min 10s, sys: 2min 55s, total: 18min 5s\n",
      "Wall time: 22min 44s\n"
     ]
    }
   ],
   "source": [
    "%%time\n",
    "savepath = 'Background/'\n",
    "if not os.path.exists(os.environ['ROOT_DIR']+savepath):\n",
    "    os.mkdir(os.environ['ROOT_DIR']+savepath)\n",
    "savepath = savepath+stack+'/'\n",
    "if not os.path.exists(os.environ['ROOT_DIR']+savepath):\n",
    "    os.mkdir(os.environ['ROOT_DIR']+savepath)\n",
    "\n",
    "raw_images_root = '/data/CSHL_data_processed/'+stack+'/'+stack+'_prep2_lossless_gray/'\n",
    "for section in valid_sections:\n",
    "    img_fn = raw_images_root + section_to_filename[section] + '_prep2_lossless_gray.tif'\n",
    "#     setup_download_from_s3(img_fn, recursive=False)\n",
    "    img = cv2.imread(img_fn, 2)\n",
    "    filename = savepath + str(section) + '.tif'\n",
    "    cv2.imwrite(os.environ['ROOT_DIR']+filename, img)   "
   ]
  },
  {
   "cell_type": "code",
   "execution_count": 11,
   "metadata": {},
   "outputs": [
    {
     "name": "stdout",
     "output_type": "stream",
     "text": [
      "CPU times: user 7min 26s, sys: 1min 19s, total: 8min 45s\n",
      "Wall time: 11min\n"
     ]
    }
   ],
   "source": [
    "%%time\n",
    "savepath = 'Background/'\n",
    "if not os.path.exists(os.environ['ROOT_DIR']+savepath):\n",
    "    os.mkdir(os.environ['ROOT_DIR']+savepath)\n",
    "savepath = savepath+stack+'/'\n",
    "if not os.path.exists(os.environ['ROOT_DIR']+savepath):\n",
    "    os.mkdir(os.environ['ROOT_DIR']+savepath)\n",
    "\n",
    "raw_images_root = '/data/CSHL_data_processed/'+stack+'/'+stack+'_prep2_lossless_gray/'\n",
    "for section in valid_sections[:len(valid_sections)//2]:\n",
    "    img_fn = raw_images_root + section_to_filename[section] + '_prep2_lossless_gray.tif'\n",
    "#     setup_download_from_s3(img_fn, recursive=False)\n",
    "    img = cv2.imread(img_fn, 2)\n",
    "    filename = savepath + str(section) + '.tif'\n",
    "    cv2.imwrite(os.environ['ROOT_DIR']+filename, img)   "
   ]
  },
  {
   "cell_type": "code",
   "execution_count": null,
   "metadata": {},
   "outputs": [],
   "source": []
  },
  {
   "cell_type": "code",
   "execution_count": 5,
   "metadata": {},
   "outputs": [
    {
     "data": {
      "text/plain": [
       "685464.0"
      ]
     },
     "execution_count": 5,
     "metadata": {},
     "output_type": "execute_result"
    }
   ],
   "source": [
    "4*13*13*13*13*12/2"
   ]
  },
  {
   "cell_type": "code",
   "execution_count": 6,
   "metadata": {},
   "outputs": [
    {
     "data": {
      "text/plain": [
       "1317888.0"
      ]
     },
     "execution_count": 6,
     "metadata": {},
     "output_type": "execute_result"
    }
   ],
   "source": [
    "13*12*11*10*9/5/4/3/2*4*4*4*4*4"
   ]
  },
  {
   "cell_type": "code",
   "execution_count": 7,
   "metadata": {},
   "outputs": [
    {
     "data": {
      "text/plain": [
       "10080"
      ]
     },
     "execution_count": 7,
     "metadata": {},
     "output_type": "execute_result"
    }
   ],
   "source": [
    "8*7*6*5*6"
   ]
  },
  {
   "cell_type": "code",
   "execution_count": 8,
   "metadata": {},
   "outputs": [
    {
     "data": {
      "text/plain": [
       "5005.0"
      ]
     },
     "execution_count": 8,
     "metadata": {},
     "output_type": "execute_result"
    }
   ],
   "source": [
    "15*14*13*12*11*10/6/5/4/3/2"
   ]
  },
  {
   "cell_type": "code",
   "execution_count": null,
   "metadata": {},
   "outputs": [],
   "source": [
    "TT"
   ]
  }
 ],
 "metadata": {
  "kernelspec": {
   "display_name": "shapeology",
   "language": "python",
   "name": "shapeology_code"
  },
  "language_info": {
   "codemirror_mode": {
    "name": "ipython",
    "version": 3
   },
   "file_extension": ".py",
   "mimetype": "text/x-python",
   "name": "python",
   "nbconvert_exporter": "python",
   "pygments_lexer": "ipython3",
   "version": "3.7.3"
  }
 },
 "nbformat": 4,
 "nbformat_minor": 2
}
