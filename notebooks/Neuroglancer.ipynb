{
 "cells": [
  {
   "cell_type": "code",
   "execution_count": 1,
   "metadata": {},
   "outputs": [],
   "source": [
    "from __future__ import print_function\n",
    "\n",
    "import argparse\n",
    "import numpy as np\n",
    "\n",
    "import neuroglancer\n",
    "import os\n",
    "import pandas as pd\n",
    "import cv2\n",
    "import matplotlib.pyplot as plt\n",
    "from glob import glob"
   ]
  },
  {
   "cell_type": "code",
   "execution_count": 2,
   "metadata": {},
   "outputs": [],
   "source": [
    "stack = 'MD594'\n",
    "source_dir = os.environ['ROOT_DIR']\n",
    "fp = os.path.join('CSHL_data_processed', stack, stack + '_sorted_filenames.txt')\n",
    "with open(source_dir+fp, 'r') as f:\n",
    "    fn_idx_tuples = [line.strip().split() for line in f.readlines()]\n",
    "    section_to_filename = {int(idx): fn for fn, idx in fn_idx_tuples}\n",
    "fname = os.path.join('CSHL_data_processed', stack, 'Annotation.npy')\n",
    "annotation = np.load(source_dir+fname, allow_pickle = True, encoding='latin1')\n",
    "contours = pd.DataFrame(annotation)\n",
    "contours = contours.rename(columns={0:\"name\", 1:\"section\", 2:\"vertices\"})\n",
    "contours_grouped = contours.groupby('section')\n",
    "contours_struc = contours.groupby('name')\n",
    "valid_sections = np.sort(contours['section'].unique())\n",
    "\n",
    "paired_structures = ['5N', '6N', '7N', '7n', 'Amb', 'LC', 'LRt', 'Pn', 'Tz', 'VLL', 'RMC', \\\n",
    "                     'SNC', 'SNR', '3N', '4N', 'Sp5I', 'Sp5O', 'Sp5C', 'PBG', '10N', 'VCA', 'VCP', 'DC']\n",
    "singular_structures = ['AP', '12N', 'RtTg', 'SC', 'IC']\n",
    "\n",
    "all_structures = paired_structures + singular_structures\n",
    "all_structures = np.array(all_structures)"
   ]
  },
  {
   "cell_type": "code",
   "execution_count": 3,
   "metadata": {
    "scrolled": false
   },
   "outputs": [
    {
     "data": {
      "text/plain": [
       "array([[7846.35119146, 7025.37862291],\n",
       "       [7727.78491719, 6973.16629019],\n",
       "       [7662.61929633, 6922.79994021],\n",
       "       [7665.50842641, 6848.03215937],\n",
       "       [7804.54138864, 6725.98528806],\n",
       "       [7876.96147159, 6692.33823903],\n",
       "       [8004.30597918, 6660.50284246],\n",
       "       [8148.96125467, 6652.67015243],\n",
       "       [8198.16822747, 6671.38060947],\n",
       "       [8229.87954194, 6725.54976801],\n",
       "       [8153.43742976, 6783.68014746],\n",
       "       [8079.83687836, 6832.59923901],\n",
       "       [8065.69773499, 6881.70322097],\n",
       "       [8002.96956383, 6939.52462793],\n",
       "       [7964.69039281, 6999.8442929 ],\n",
       "       [7912.21665689, 7039.14013322]])"
      ]
     },
     "execution_count": 3,
     "metadata": {},
     "output_type": "execute_result"
    }
   ],
   "source": [
    "contours[(contours['name']=='VCA') & (contours['section']==94)]['vertices'].to_list()[0]"
   ]
  },
  {
   "cell_type": "code",
   "execution_count": 4,
   "metadata": {},
   "outputs": [
    {
     "name": "stdout",
     "output_type": "stream",
     "text": [
      "VCA\n",
      "VCP\n",
      "DC\n"
     ]
    }
   ],
   "source": [
    "for struc in contours_grouped.get_group(110)['name'].unique():\n",
    "    print(struc)"
   ]
  },
  {
   "cell_type": "code",
   "execution_count": 12,
   "metadata": {},
   "outputs": [
    {
     "data": {
      "text/plain": [
       "13"
      ]
     },
     "execution_count": 12,
     "metadata": {},
     "output_type": "execute_result"
    }
   ],
   "source": [
    "np.where(all_structures=='3N')[0][0]"
   ]
  },
  {
   "cell_type": "code",
   "execution_count": 15,
   "metadata": {},
   "outputs": [
    {
     "data": {
      "text/plain": [
       "16"
      ]
     },
     "execution_count": 15,
     "metadata": {},
     "output_type": "execute_result"
    }
   ],
   "source": [
    "np.where(valid_sections==110)[0][0]"
   ]
  },
  {
   "cell_type": "code",
   "execution_count": 80,
   "metadata": {},
   "outputs": [
    {
     "name": "stdout",
     "output_type": "stream",
     "text": [
      "CPU times: user 2.53 s, sys: 34.3 ms, total: 2.56 s\n",
      "Wall time: 2.57 s\n"
     ]
    }
   ],
   "source": [
    "%%time\n",
    "margin = 200/0.46\n",
    "m = 11104\n",
    "n = 17216\n",
    "locations = np.zeros((4, len(all_structures), len(valid_sections)))\n",
    "for section in valid_sections:\n",
    "    structures = contours_grouped.get_group(section)['name'].unique()\n",
    "    seq_section = np.where(valid_sections==section)[0][0]\n",
    "    for structure in structures:\n",
    "        if structure in all_structures:\n",
    "            polygon = contours[(contours['name']==structure) & (contours['section']==section)]['vertices'].to_list()[0]\n",
    "            seq_struc = np.where(all_structures==structure)[0][0]\n",
    "#             locations[:, seq_struc, seq_section] = np.array([int(max(min(polygon[:, 0]), 0)),\n",
    "#                                                             int(min(np.ceil(max(polygon[:, 0])), n)),\n",
    "#                                                             int(max(min(polygon[:, 1]), 0)),\n",
    "#                                                             int(min(np.ceil(max(polygon[:, 1])), m))])\n",
    "            locations[:, seq_struc, seq_section] = np.array([int(max(min(polygon[:, 0]) - margin, 0)),\n",
    "                                                            int(min(np.ceil(max(polygon[:, 0]) + margin), n)),\n",
    "                                                            int(max(min(polygon[:, 1]) - margin, 0)),\n",
    "                                                            int(min(np.ceil(max(polygon[:, 1]) + margin), m))])\n"
   ]
  },
  {
   "cell_type": "code",
   "execution_count": 67,
   "metadata": {},
   "outputs": [
    {
     "data": {
      "text/plain": [
       "array([[7227., 7092., 6936., ..., 6752., 6790.,    0.],\n",
       "       [8665., 8897., 9214., ..., 9010., 8993.,    0.],\n",
       "       [6217., 6190., 6150., ..., 5889., 5904.,    0.],\n",
       "       [7474., 7561., 7698., ..., 7394., 7337.,    0.]])"
      ]
     },
     "execution_count": 67,
     "metadata": {},
     "output_type": "execute_result"
    }
   ],
   "source": [
    "seq_struc = np.where(all_structures=='VCA')[0][0]\n",
    "locations[:, seq_struc, :]"
   ]
  },
  {
   "cell_type": "code",
   "execution_count": 81,
   "metadata": {
    "scrolled": true
   },
   "outputs": [
    {
     "data": {
      "image/png": "[encoded data removed]",
      "text/plain": [
       "<Figure size 432x288 with 1 Axes>"
      ]
     },
     "metadata": {
      "needs_background": "light"
     },
     "output_type": "display_data"
    }
   ],
   "source": [
    "for i in range(len(all_structures)):\n",
    "    x = np.concatenate((locations[0,i,:], locations[0,i,:], locations[1,i,:], locations[1,i,:]))\n",
    "    y = np.concatenate((locations[2,i,:], locations[3,i,:], locations[2,i,:], locations[3,i,:]))\n",
    "    plt.scatter(x, y)\n",
    "#     plt.scatter(locations[0,i,:], locations[2,i,:])"
   ]
  },
  {
   "cell_type": "code",
   "execution_count": 57,
   "metadata": {},
   "outputs": [
    {
     "data": {
      "image/png": "[encoded data removed]",
      "text/plain": [
       "<Figure size 432x288 with 1 Axes>"
      ]
     },
     "metadata": {
      "needs_background": "light"
     },
     "output_type": "display_data"
    }
   ],
   "source": [
    "for i in range(len(all_structures)):\n",
    "    plt.scatter(locations[1,i,:], locations[3,i,:])"
   ]
  },
  {
   "cell_type": "code",
   "execution_count": null,
   "metadata": {},
   "outputs": [],
   "source": []
  },
  {
   "cell_type": "code",
   "execution_count": 82,
   "metadata": {},
   "outputs": [
    {
     "name": "stdout",
     "output_type": "stream",
     "text": [
      "CPU times: user 209 ms, sys: 4.21 ms, total: 213 ms\n",
      "Wall time: 214 ms\n"
     ]
    }
   ],
   "source": [
    "%%time\n",
    "group = {}\n",
    "for i in range(len(all_structures)):\n",
    "    subgroup = list(all_structures)\n",
    "    for j in range(len(all_structures)):\n",
    "#         if j==i:\n",
    "#             continue\n",
    "        for z in range(len(valid_sections)):\n",
    "            if (locations[0,i,z]-locations[1,j,z])>=0:\n",
    "                continue\n",
    "            if (locations[1,i,z]-locations[0,j,z])<=0:\n",
    "                continue\n",
    "            if (locations[2,i,z]-locations[3,j,z])>=0:\n",
    "                continue\n",
    "            if (locations[3,i,z]-locations[2,j,z])<=0:\n",
    "                continue\n",
    "            subgroup.remove(all_structures[j])\n",
    "            break\n",
    "    group[all_structures[i]] = subgroup"
   ]
  },
  {
   "cell_type": "code",
   "execution_count": 89,
   "metadata": {},
   "outputs": [
    {
     "name": "stdout",
     "output_type": "stream",
     "text": [
      "5N ['5N', '7N', '7n', 'VLL']\n",
      "6N ['6N', '7n']\n",
      "7N ['5N', '7N', '7n', 'Amb', 'Sp5O']\n",
      "7n ['5N', '6N', '7N', '7n', 'LC', 'VLL', 'Sp5O']\n",
      "Amb ['7N', 'Amb', 'LRt']\n",
      "LC ['7n', 'LC']\n",
      "LRt ['Amb', 'LRt', 'Sp5I', 'Sp5O', 'Sp5C']\n",
      "Pn ['Pn', 'Tz', 'SNC', 'SNR', 'RtTg']\n",
      "Tz ['Pn', 'Tz', 'RtTg']\n",
      "VLL ['5N', '7n', 'VLL', 'SNR', 'PBG']\n",
      "RMC ['RMC', 'SNR', '3N', '4N', 'RtTg']\n",
      "SNC ['Pn', 'SNC', 'SNR']\n",
      "SNR ['Pn', 'VLL', 'RMC', 'SNC', 'SNR', 'PBG', 'RtTg']\n",
      "3N ['RMC', '3N', '4N']\n",
      "4N ['RMC', '3N', '4N']\n",
      "Sp5I ['LRt', 'Sp5I', 'Sp5O', 'Sp5C', 'DC']\n",
      "Sp5O ['7N', '7n', 'LRt', 'Sp5I', 'Sp5O', 'Sp5C', 'DC']\n",
      "Sp5C ['LRt', 'Sp5I', 'Sp5O', 'Sp5C']\n",
      "PBG ['VLL', 'SNR', 'PBG', 'SC', 'IC']\n",
      "10N ['10N', 'AP', '12N']\n",
      "VCA ['VCA', 'VCP', 'DC']\n",
      "VCP ['VCA', 'VCP', 'DC']\n",
      "DC ['Sp5I', 'Sp5O', 'VCA', 'VCP', 'DC']\n",
      "AP ['10N', 'AP', '12N']\n",
      "12N ['10N', 'AP', '12N']\n",
      "RtTg ['Pn', 'Tz', 'RMC', 'SNR', 'RtTg']\n",
      "SC ['PBG', 'SC', 'IC']\n",
      "IC ['PBG', 'SC', 'IC']\n"
     ]
    }
   ],
   "source": [
    "for structure in all_structures:\n",
    "    print(structure, [x for x in all_structures if x not in group[structure]])"
   ]
  },
  {
   "cell_type": "code",
   "execution_count": 190,
   "metadata": {},
   "outputs": [],
   "source": [
    "sets = {}\n",
    "sets_left = list(all_structures)\n",
    "count = [6, 6, 6, 3, 2]\n",
    "for i in range(5):\n",
    "    subset = []\n",
    "    subset.append(sets_left[0])\n",
    "    common = [x for x in group[sets_left[0]] if x in sets_left]\n",
    "    sets_left.pop(0)\n",
    "    for j in range(count[i]):\n",
    "        seq = np.random.choice(len(common),1)[0]\n",
    "        subset.append(common[seq])\n",
    "        sets_left.remove(common[seq])\n",
    "        common = [x for x in common if (x in group[common[seq]]) & (x in sets_left)]\n",
    "    sets[i] = subset"
   ]
  },
  {
   "cell_type": "code",
   "execution_count": 192,
   "metadata": {
    "scrolled": false
   },
   "outputs": [
    {
     "data": {
      "text/plain": [
       "{0: ['5N', 'Sp5C', 'Tz', 'SNC', 'LC', 'SC', '12N'],\n",
       " 1: ['6N', '3N', 'VLL', 'Sp5I', '7N', 'IC', 'AP'],\n",
       " 2: ['7n', 'RMC', 'Pn', 'Amb', '10N', 'DC', 'PBG'],\n",
       " 3: ['LRt', 'SNR', '4N', 'VCA'],\n",
       " 4: ['Sp5O', 'RtTg', 'VCP']}"
      ]
     },
     "execution_count": 192,
     "metadata": {},
     "output_type": "execute_result"
    }
   ],
   "source": [
    "sets"
   ]
  },
  {
   "cell_type": "code",
   "execution_count": 193,
   "metadata": {},
   "outputs": [],
   "source": [
    "a = {0: ['5N', 'Sp5C', 'Tz', 'SNC', 'LC', 'SC', '12N'],\n",
    " 1: ['6N', '3N', 'VLL', 'Sp5I', '7N', 'IC', 'AP'],\n",
    " 2: ['7n', 'RMC', 'Pn', 'Amb', '10N', 'DC', 'PBG'],\n",
    " 3: ['LRt', 'SNR', '4N', 'VCA'],\n",
    " 4: ['Sp5O', 'RtTg', 'VCP']}"
   ]
  },
  {
   "cell_type": "code",
   "execution_count": 2,
   "metadata": {},
   "outputs": [
    {
     "name": "stdout",
     "output_type": "stream",
     "text": [
      "/Users/kuiqian/Github/venv/shapeology_venv/lib/python3.7/site-packages/sklearn/externals/joblib/externals/cloudpickle/cloudpickle.py:47: DeprecationWarning: the imp module is deprecated in favour of importlib; see the module's documentation for alternative uses\n",
      "  import imp\n",
      "python(9429,0x106ff7d40) malloc: *** error for object 0x7fff96c03c90: pointer being freed was not allocated\n",
      "python(9429,0x106ff7d40) malloc: *** set a breakpoint in malloc_error_break to debug\n"
     ]
    }
   ],
   "source": [
    "! python ../scripts/Cell_mark_v2.py"
   ]
  },
  {
   "cell_type": "code",
   "execution_count": 3,
   "metadata": {},
   "outputs": [
    {
     "name": "stdout",
     "output_type": "stream",
     "text": [
      "CPU times: user 369 ms, sys: 12.4 ms, total: 381 ms\n",
      "Wall time: 375 ms\n"
     ]
    }
   ],
   "source": [
    "%%time\n",
    "structure = 'VCA'\n",
    "margin = 500/0.46\n",
    "m = 11104\n",
    "n = 17216\n",
    "left_max, right_max, up_max, down_max = n, 0, m, 0\n",
    "for section in valid_sections:\n",
    "    try:\n",
    "        polygon = contours[(contours['name']==structure) & (contours['section']==section)]['vertices'].to_list()[0]\n",
    "        [left, right, up, down] = [int(max(min(polygon[:, 0]) - margin, 0)),\n",
    "                                   int(min(np.ceil(max(polygon[:, 0]) + margin), n)),\n",
    "                                   int(max(min(polygon[:, 1]) - margin, 0)),\n",
    "                                   int(min(np.ceil(max(polygon[:, 1]) + margin), m))]\n",
    "        if left<left_max:\n",
    "            left_max = left\n",
    "        if right>right_max:\n",
    "            right_max = right\n",
    "        if up<up_max:\n",
    "            up_max = up\n",
    "        if down>down_max:\n",
    "            down_max = down\n",
    "    except:\n",
    "        continue"
   ]
  },
  {
   "cell_type": "code",
   "execution_count": 23,
   "metadata": {},
   "outputs": [
    {
     "data": {
      "text/plain": [
       "(5205, 10467, 4589, 9195)"
      ]
     },
     "execution_count": 23,
     "metadata": {},
     "output_type": "execute_result"
    }
   ],
   "source": [
    "left_max, right_max, up_max, down_max"
   ]
  },
  {
   "cell_type": "code",
   "execution_count": 7,
   "metadata": {},
   "outputs": [
    {
     "data": {
      "text/plain": [
       "(4, 265, 4606, 5262)"
      ]
     },
     "execution_count": 7,
     "metadata": {},
     "output_type": "execute_result"
    }
   ],
   "source": [
    "x.shape"
   ]
  },
  {
   "cell_type": "code",
   "execution_count": 8,
   "metadata": {},
   "outputs": [],
   "source": [
    "section = valid_sections[0]\n",
    "src = glob(source_dir+'CSHL_cells_mark/'+stack+'/'+structure+'/'+ str(section) + '*.png')[0]\n",
    "img = cv2.imread(src,-1)"
   ]
  },
  {
   "cell_type": "code",
   "execution_count": 10,
   "metadata": {},
   "outputs": [
    {
     "data": {
      "text/plain": [
       "(4, 11104, 17216)"
      ]
     },
     "execution_count": 10,
     "metadata": {},
     "output_type": "execute_result"
    }
   ],
   "source": [
    "img = np.moveaxis(img, -1, 0)\n",
    "img.shape"
   ]
  },
  {
   "cell_type": "code",
   "execution_count": 4,
   "metadata": {},
   "outputs": [
    {
     "name": "stdout",
     "output_type": "stream",
     "text": [
      "0\n",
      "1\n",
      "2\n",
      "3\n",
      "4\n",
      "5\n",
      "6\n",
      "7\n",
      "8\n",
      "9\n",
      "10\n",
      "11\n",
      "12\n",
      "13\n",
      "14\n",
      "15\n",
      "16\n",
      "17\n",
      "18\n",
      "19\n",
      "20\n",
      "21\n",
      "22\n",
      "23\n",
      "24\n",
      "25\n",
      "26\n",
      "27\n",
      "28\n",
      "29\n",
      "30\n",
      "31\n",
      "32\n",
      "33\n",
      "34\n",
      "35\n",
      "36\n",
      "37\n",
      "38\n",
      "39\n",
      "40\n",
      "41\n",
      "42\n",
      "43\n",
      "44\n",
      "45\n",
      "46\n",
      "47\n",
      "48\n",
      "49\n",
      "50\n",
      "51\n",
      "52\n",
      "53\n",
      "54\n",
      "55\n",
      "56\n",
      "57\n",
      "58\n",
      "59\n",
      "60\n",
      "61\n",
      "62\n",
      "63\n",
      "64\n",
      "65\n",
      "66\n",
      "67\n",
      "68\n",
      "69\n",
      "70\n",
      "71\n",
      "72\n",
      "73\n",
      "74\n",
      "75\n",
      "76\n",
      "77\n",
      "78\n",
      "79\n",
      "80\n",
      "81\n",
      "82\n",
      "83\n",
      "84\n",
      "85\n",
      "86\n",
      "87\n",
      "88\n",
      "89\n",
      "90\n",
      "91\n",
      "92\n",
      "93\n",
      "94\n",
      "95\n",
      "96\n",
      "97\n",
      "98\n",
      "99\n",
      "100\n",
      "101\n",
      "102\n",
      "103\n",
      "104\n",
      "105\n",
      "106\n",
      "107\n",
      "108\n",
      "109\n",
      "110\n",
      "111\n",
      "112\n",
      "113\n",
      "114\n",
      "115\n",
      "116\n",
      "117\n",
      "118\n",
      "119\n",
      "120\n",
      "121\n",
      "122\n",
      "123\n",
      "124\n",
      "125\n",
      "126\n",
      "127\n",
      "128\n",
      "129\n",
      "130\n",
      "131\n",
      "132\n",
      "133\n",
      "134\n",
      "135\n",
      "136\n",
      "137\n",
      "138\n",
      "139\n",
      "140\n",
      "141\n",
      "142\n",
      "143\n",
      "144\n",
      "145\n",
      "146\n",
      "147\n",
      "148\n",
      "149\n",
      "150\n",
      "151\n",
      "152\n",
      "153\n",
      "154\n",
      "155\n",
      "156\n",
      "157\n",
      "158\n",
      "159\n",
      "160\n",
      "161\n",
      "162\n",
      "163\n",
      "164\n",
      "165\n",
      "166\n",
      "167\n",
      "168\n",
      "169\n",
      "170\n",
      "171\n",
      "172\n",
      "173\n",
      "174\n",
      "175\n",
      "176\n",
      "177\n",
      "178\n",
      "179\n",
      "180\n",
      "181\n",
      "182\n",
      "183\n",
      "184\n",
      "185\n",
      "186\n",
      "187\n",
      "188\n",
      "189\n",
      "190\n",
      "191\n",
      "192\n",
      "193\n",
      "194\n",
      "195\n",
      "196\n",
      "197\n",
      "198\n",
      "199\n",
      "200\n",
      "201\n",
      "202\n",
      "203\n",
      "204\n",
      "205\n",
      "206\n",
      "207\n",
      "208\n",
      "209\n",
      "210\n",
      "211\n",
      "212\n",
      "213\n",
      "214\n",
      "215\n",
      "216\n",
      "217\n",
      "218\n",
      "219\n",
      "220\n",
      "221\n",
      "222\n",
      "223\n",
      "224\n",
      "225\n",
      "226\n",
      "227\n",
      "228\n",
      "229\n",
      "230\n",
      "231\n",
      "232\n",
      "233\n",
      "234\n",
      "235\n",
      "236\n",
      "237\n",
      "238\n",
      "239\n",
      "240\n",
      "241\n",
      "242\n",
      "243\n",
      "244\n",
      "245\n",
      "246\n",
      "247\n",
      "248\n",
      "249\n",
      "250\n",
      "251\n",
      "252\n",
      "253\n",
      "254\n",
      "255\n",
      "256\n",
      "257\n",
      "258\n",
      "259\n",
      "260\n",
      "261\n",
      "262\n",
      "263\n",
      "264\n",
      "CPU times: user 9min, sys: 2min 28s, total: 11min 29s\n",
      "Wall time: 11min 59s\n"
     ]
    }
   ],
   "source": [
    "%%time\n",
    "structure = 'VCA'\n",
    "mark = np.zeros((4,len(valid_sections), down_max-up_max, right_max-left_max), dtype=np.uint8)\n",
    "for i in range(len(valid_sections)):\n",
    "    section = valid_sections[i]\n",
    "    src = glob(source_dir+'CSHL_cells_mark/'+stack+'/'+structure+'/'+ str(section) + '*.png')[0]\n",
    "    img = cv2.imread(src,-1)\n",
    "    img = np.moveaxis(img, -1, 0)\n",
    "    mark[:,i,:,:] = img[:, up_max:down_max, left_max:right_max]\n",
    "    print(i)"
   ]
  },
  {
   "cell_type": "code",
   "execution_count": 5,
   "metadata": {},
   "outputs": [
    {
     "data": {
      "text/plain": [
       "(4, 265, 4606, 5262)"
      ]
     },
     "execution_count": 5,
     "metadata": {},
     "output_type": "execute_result"
    }
   ],
   "source": [
    "mark.shape"
   ]
  },
  {
   "cell_type": "code",
   "execution_count": 24,
   "metadata": {},
   "outputs": [
    {
     "name": "stdout",
     "output_type": "stream",
     "text": [
      "ViewerState({\"layers\": [{\"type\": \"image\", \"source\": \"precomputed://https://mousebrainatlas-datajoint-jp2k.s3.amazonaws.com/precomputed/MD594_fullres\", \"name\": \"image\"}, {\"type\": \"segmentation\", \"source\": \"python://f6fe4edebb7cbe31d60aca77484d995fbd5e82e3.18a94c12a0d063476c3e6c74444649af5669482b\", \"name\": \"VCA\"}]})\n",
      "http://127.0.0.1:54136/v/f6fe4edebb7cbe31d60aca77484d995fbd5e82e3/\n"
     ]
    },
    {
     "name": "stderr",
     "output_type": "stream",
     "text": [
      "Exception in callback None()\n",
      "handle: <Handle cancelled>\n",
      "Traceback (most recent call last):\n",
      "  File \"/usr/local/Cellar/python/3.7.3/Frameworks/Python.framework/Versions/3.7/lib/python3.7/asyncio/events.py\", line 88, in _run\n",
      "    self._context.run(self._callback, *self._args)\n",
      "  File \"/Users/kuiqian/Github/venv/shapeology_venv/lib/python3.7/site-packages/tornado/platform/asyncio.py\", line 122, in _handle_events\n",
      "    handler_func(fileobj, events)\n",
      "  File \"/Users/kuiqian/Github/venv/shapeology_venv/lib/python3.7/site-packages/tornado/stack_context.py\", line 300, in null_wrapper\n",
      "    return fn(*args, **kwargs)\n",
      "  File \"/Users/kuiqian/Github/venv/shapeology_venv/lib/python3.7/site-packages/tornado/iostream.py\", line 713, in _handle_events\n",
      "    self._handle_write()\n",
      "  File \"/Users/kuiqian/Github/venv/shapeology_venv/lib/python3.7/site-packages/tornado/iostream.py\", line 1063, in _handle_write\n",
      "    self._write_buffer.advance(num_bytes)\n",
      "  File \"/Users/kuiqian/Github/venv/shapeology_venv/lib/python3.7/site-packages/tornado/iostream.py\", line 184, in advance\n",
      "    assert 0 < size <= self._size\n",
      "AssertionError\n",
      "Exception in callback None()\n",
      "handle: <Handle cancelled>\n",
      "Traceback (most recent call last):\n",
      "  File \"/usr/local/Cellar/python/3.7.3/Frameworks/Python.framework/Versions/3.7/lib/python3.7/asyncio/events.py\", line 88, in _run\n",
      "    self._context.run(self._callback, *self._args)\n",
      "  File \"/Users/kuiqian/Github/venv/shapeology_venv/lib/python3.7/site-packages/tornado/platform/asyncio.py\", line 122, in _handle_events\n",
      "    handler_func(fileobj, events)\n",
      "  File \"/Users/kuiqian/Github/venv/shapeology_venv/lib/python3.7/site-packages/tornado/stack_context.py\", line 300, in null_wrapper\n",
      "    return fn(*args, **kwargs)\n",
      "  File \"/Users/kuiqian/Github/venv/shapeology_venv/lib/python3.7/site-packages/tornado/iostream.py\", line 713, in _handle_events\n",
      "    self._handle_write()\n",
      "  File \"/Users/kuiqian/Github/venv/shapeology_venv/lib/python3.7/site-packages/tornado/iostream.py\", line 1063, in _handle_write\n",
      "    self._write_buffer.advance(num_bytes)\n",
      "  File \"/Users/kuiqian/Github/venv/shapeology_venv/lib/python3.7/site-packages/tornado/iostream.py\", line 184, in advance\n",
      "    assert 0 < size <= self._size\n",
      "AssertionError\n",
      "Exception in callback None()\n",
      "handle: <Handle cancelled>\n",
      "Traceback (most recent call last):\n",
      "  File \"/usr/local/Cellar/python/3.7.3/Frameworks/Python.framework/Versions/3.7/lib/python3.7/asyncio/events.py\", line 88, in _run\n",
      "    self._context.run(self._callback, *self._args)\n",
      "  File \"/Users/kuiqian/Github/venv/shapeology_venv/lib/python3.7/site-packages/tornado/platform/asyncio.py\", line 122, in _handle_events\n",
      "    handler_func(fileobj, events)\n",
      "  File \"/Users/kuiqian/Github/venv/shapeology_venv/lib/python3.7/site-packages/tornado/stack_context.py\", line 300, in null_wrapper\n",
      "    return fn(*args, **kwargs)\n",
      "  File \"/Users/kuiqian/Github/venv/shapeology_venv/lib/python3.7/site-packages/tornado/iostream.py\", line 713, in _handle_events\n",
      "    self._handle_write()\n",
      "  File \"/Users/kuiqian/Github/venv/shapeology_venv/lib/python3.7/site-packages/tornado/iostream.py\", line 1063, in _handle_write\n",
      "    self._write_buffer.advance(num_bytes)\n",
      "  File \"/Users/kuiqian/Github/venv/shapeology_venv/lib/python3.7/site-packages/tornado/iostream.py\", line 184, in advance\n",
      "    assert 0 < size <= self._size\n",
      "AssertionError\n"
     ]
    }
   ],
   "source": [
    "viewer = neuroglancer.Viewer()\n",
    "\n",
    "# a = np.zeros((3, 100, 100, 100), dtype=np.uint8)\n",
    "# ix, iy, iz = np.meshgrid(* [np.linspace(0, 1, n) for n in a.shape[1:]], indexing='ij')\n",
    "# a[0, :, :, :] = np.abs(np.sin(4 * (ix + iy))) * 255\n",
    "# a[1, :, :, :] = np.abs(np.sin(4 * (iy + iz))) * 255\n",
    "# a[2, :, :, :] = np.abs(np.sin(4 * (ix + iz))) * 255\n",
    "\n",
    "a = np.zeros((100,100,100), dtype=np.uint8)\n",
    "a[:,:,:]=2\n",
    "\n",
    "b = np.zeros((100,100,100), dtype=np.uint8)\n",
    "b[:,:,:]=3\n",
    "\n",
    "\n",
    "with viewer.txn() as s:\n",
    "    s.layers['image'] = neuroglancer.ImageLayer(\n",
    "        # source='precomputed://gs://neuroglancer-public-data/flyem_fib-25/image',\n",
    "        source='precomputed://https://mousebrainatlas-datajoint-jp2k.s3.amazonaws.com/precomputed/MD594_fullres',\n",
    "    )\n",
    "    s.layers['VCA'] = neuroglancer.SegmentationLayer(\n",
    "        source=neuroglancer.LocalVolume(mark, voxel_size=[460, 460, 20000], offset=[up_max, left_max, 94])\n",
    "    )\n",
    "#     s.layers['cube_2'] = neuroglancer.SegmentationLayer(\n",
    "#         source=neuroglancer.LocalVolume(b, voxel_size=[10000, 10000, 10000], voxel_offset=[200, 200, 0])\n",
    "#     )\n",
    "#     s.voxel_coordinates = [3000, 3000, 3000]\n",
    "print(viewer.state)\n",
    "print(viewer)"
   ]
  },
  {
   "cell_type": "code",
   "execution_count": 5,
   "metadata": {},
   "outputs": [
    {
     "data": {
      "text/plain": [
       "ImageLayer({\"type\": \"image\"})"
      ]
     },
     "execution_count": 5,
     "metadata": {},
     "output_type": "execute_result"
    }
   ],
   "source": [
    "neuroglancer.ImageLayer()"
   ]
  },
  {
   "cell_type": "code",
   "execution_count": null,
   "metadata": {},
   "outputs": [],
   "source": []
  }
 ],
 "metadata": {
  "kernelspec": {
   "display_name": "shapeology",
   "language": "python",
   "name": "shapeology_code"
  },
  "language_info": {
   "codemirror_mode": {
    "name": "ipython",
    "version": 3
   },
   "file_extension": ".py",
   "mimetype": "text/x-python",
   "name": "python",
   "nbconvert_exporter": "python",
   "pygments_lexer": "ipython3",
   "version": "3.7.3"
  }
 },
 "nbformat": 4,
 "nbformat_minor": 2
}
